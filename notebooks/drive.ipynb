{
 "cells": [
  {
   "cell_type": "markdown",
   "id": "2dd3a065",
   "metadata": {},
   "source": [
    "# **Autenticación de Google Drive (borrar después de haber iniciado sesión)**"
   ]
  },
  {
   "cell_type": "code",
   "execution_count": null,
   "id": "df18cb68",
   "metadata": {},
   "outputs": [],
   "source": [
    "import os\n",
    "\n",
    "try:\n",
    "    os.chdir(\"../../etl-workshop-2/src\")\n",
    "except FileNotFoundError:\n",
    "    print(\"You are already in the correct directory.\")"
   ]
  },
  {
   "cell_type": "code",
   "execution_count": null,
   "id": "44081fd0",
   "metadata": {},
   "outputs": [],
   "source": [
    "from store_drive import storing_data\n",
    "import pandas as pd"
   ]
  },
  {
   "cell_type": "code",
   "execution_count": null,
   "id": "f4530b96",
   "metadata": {},
   "outputs": [],
   "source": [
    "df = pd.read_csv(\"../data/spotify_dataset.csv\")"
   ]
  },
  {
   "cell_type": "code",
   "execution_count": null,
   "id": "af640afb",
   "metadata": {},
   "outputs": [],
   "source": [
    "storing_data(\"dataframe_prueba\", df)"
   ]
  }
 ],
 "metadata": {
  "kernelspec": {
   "display_name": "venv",
   "language": "python",
   "name": "python3"
  },
  "language_info": {
   "name": "python",
   "version": "3.12.3"
  }
 },
 "nbformat": 4,
 "nbformat_minor": 5
}
