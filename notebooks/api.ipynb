{
 "cells": [
  {
   "cell_type": "code",
   "execution_count": null,
   "id": "e024f17e",
   "metadata": {},
   "outputs": [],
   "source": [
    "key = \"BQDdzJr5mpoWrez3GKbU39DRzvW3x0Hye-6rJiVHvwOjuUbaIk2OPB1fNO0ak3IyDaw4-stbR7fgmzlr6WC9OtV-ngvx76-t4bpXPXcJ5B_5DQctMqD-MQdS8xVri_OMRuXEY3W4668HT0WZUHBDL3NSkZAiF60glzYg1ovGNNcR17aOxUAUVQtAzub7-BbGANpDFnoX8m2Fh6CtyDcu-1GKFrGDdB8zh6pfOK_bHCqJsCF-0t1CuncyNRZ3WG78rHBpAjW5O8_nRl2Vn98UFc25zUY9I3RMmUfAJh0SP0TwNWR_GJHRvYUT_kl1\"\n",
    "client_id = \"0f0237383e614fefa734f1146667f6b0\"\n",
    "url = \"https://y4xul/ETL/workshop002\""
   ]
  }
 ],
 "metadata": {
  "language_info": {
   "name": "python"
  }
 },
 "nbformat": 4,
 "nbformat_minor": 5
}
